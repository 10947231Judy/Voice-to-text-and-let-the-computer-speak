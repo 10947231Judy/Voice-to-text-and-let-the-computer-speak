{
 "cells": [
  {
   "cell_type": "code",
   "execution_count": 4,
   "id": "43756092-d81e-411a-bdbf-7ff72021dbcd",
   "metadata": {},
   "outputs": [
    {
     "name": "stdout",
     "output_type": "stream",
     "text": [
      "Requirement already satisfied: SpeechRecognition in c:\\users\\user\\anaconda3\\lib\\site-packages (3.10.3)\n",
      "Requirement already satisfied: requests>=2.26.0 in c:\\users\\user\\anaconda3\\lib\\site-packages (from SpeechRecognition) (2.31.0)\n",
      "Requirement already satisfied: typing-extensions in c:\\users\\user\\anaconda3\\lib\\site-packages (from SpeechRecognition) (4.9.0)\n",
      "Requirement already satisfied: charset-normalizer<4,>=2 in c:\\users\\user\\anaconda3\\lib\\site-packages (from requests>=2.26.0->SpeechRecognition) (2.0.4)\n",
      "Requirement already satisfied: idna<4,>=2.5 in c:\\users\\user\\anaconda3\\lib\\site-packages (from requests>=2.26.0->SpeechRecognition) (3.4)\n",
      "Requirement already satisfied: urllib3<3,>=1.21.1 in c:\\users\\user\\anaconda3\\lib\\site-packages (from requests>=2.26.0->SpeechRecognition) (2.0.7)\n",
      "Requirement already satisfied: certifi>=2017.4.17 in c:\\users\\user\\anaconda3\\lib\\site-packages (from requests>=2.26.0->SpeechRecognition) (2024.2.2)\n"
     ]
    }
   ],
   "source": [
    "!pip install SpeechRecognition"
   ]
  },
  {
   "cell_type": "code",
   "execution_count": 5,
   "id": "c1905cc3-ca34-46c3-95ab-bf5cee1d51e7",
   "metadata": {},
   "outputs": [
    {
     "name": "stdout",
     "output_type": "stream",
     "text": [
      "Requirement already satisfied: pyaudio in c:\\users\\user\\anaconda3\\lib\\site-packages (0.2.14)\n"
     ]
    }
   ],
   "source": [
    "!pip install pyaudio"
   ]
  },
  {
   "cell_type": "code",
   "execution_count": 21,
   "id": "641d7ede-3b50-40b6-ae58-8cd6975ff536",
   "metadata": {},
   "outputs": [],
   "source": [
    "import speech_recognition\n",
    "r=speech_recognition.Recognizer()\n",
    "with speech_recognition.Microphone() as source:\n",
    "    audio=r.listen(source)"
   ]
  },
  {
   "cell_type": "code",
   "execution_count": 22,
   "id": "8a015afc-64ac-45bd-a2c4-20fa6bee91ee",
   "metadata": {},
   "outputs": [
    {
     "data": {
      "text/plain": [
       "'寶貝來了我來了'"
      ]
     },
     "execution_count": 22,
     "metadata": {},
     "output_type": "execute_result"
    }
   ],
   "source": [
    "r.recognize_google(audio,language='zh-TW')"
   ]
  },
  {
   "cell_type": "code",
   "execution_count": 27,
   "id": "c9a1377a-a385-4be4-9e8f-10eb73f3d8cb",
   "metadata": {},
   "outputs": [],
   "source": [
    "import speech_recognition\n",
    "r=speech_recognition.Recognizer()\n",
    "with speech_recognition.Microphone() as source:\n",
    "    audio=r.listen(source)"
   ]
  },
  {
   "cell_type": "code",
   "execution_count": 28,
   "id": "210c8e67-3c8f-4529-8522-ed660dd2bbb9",
   "metadata": {},
   "outputs": [
    {
     "data": {
      "text/plain": [
       "'Over My Dead Body'"
      ]
     },
     "execution_count": 28,
     "metadata": {},
     "output_type": "execute_result"
    }
   ],
   "source": [
    "r.recognize_google(audio,language='en')"
   ]
  },
  {
   "cell_type": "code",
   "execution_count": null,
   "id": "29822369-f76d-4c9d-821f-d9f833e51581",
   "metadata": {},
   "outputs": [],
   "source": []
  },
  {
   "cell_type": "code",
   "execution_count": 29,
   "id": "c498667b-4c22-41ba-8f40-ea981c98ca67",
   "metadata": {},
   "outputs": [],
   "source": [
    "import speech_recognition\n",
    "r=speech_recognition.Recognizer()\n",
    "with speech_recognition.Microphone() as source:\n",
    "    audio=r.listen(source)"
   ]
  },
  {
   "cell_type": "code",
   "execution_count": 30,
   "id": "2fe8e282-8283-4bed-afb1-e254501811df",
   "metadata": {},
   "outputs": [],
   "source": [
    "result=r.recognize_google(audio,language='ja')"
   ]
  },
  {
   "cell_type": "code",
   "execution_count": 31,
   "id": "7cc0a713-b557-437f-b697-e03e02d64799",
   "metadata": {},
   "outputs": [
    {
     "name": "stdout",
     "output_type": "stream",
     "text": [
      "俺はモンキー D ルフィ\n"
     ]
    }
   ],
   "source": [
    "print(result)"
   ]
  },
  {
   "cell_type": "code",
   "execution_count": 32,
   "id": "042ff067-055c-4afc-bfa0-6a67567f66a5",
   "metadata": {},
   "outputs": [],
   "source": [
    "import speech_recognition\n",
    "r=speech_recognition.Recognizer()\n",
    "with speech_recognition.Microphone() as source:\n",
    "    audio=r.listen(source)"
   ]
  },
  {
   "cell_type": "code",
   "execution_count": 33,
   "id": "43710a15-a0c1-476d-b94b-781ce0f7408e",
   "metadata": {},
   "outputs": [],
   "source": [
    "result=r.recognize_google(audio,language='ko')"
   ]
  },
  {
   "cell_type": "code",
   "execution_count": 34,
   "id": "bd601f9c-1081-4930-a830-6d29c5292aab",
   "metadata": {},
   "outputs": [
    {
     "name": "stdout",
     "output_type": "stream",
     "text": [
      "안녕하세요\n"
     ]
    }
   ],
   "source": [
    "print(result)"
   ]
  }
 ],
 "metadata": {
  "kernelspec": {
   "display_name": "Python 3 (ipykernel)",
   "language": "python",
   "name": "python3"
  },
  "language_info": {
   "codemirror_mode": {
    "name": "ipython",
    "version": 3
   },
   "file_extension": ".py",
   "mimetype": "text/x-python",
   "name": "python",
   "nbconvert_exporter": "python",
   "pygments_lexer": "ipython3",
   "version": "3.11.7"
  }
 },
 "nbformat": 4,
 "nbformat_minor": 5
}
