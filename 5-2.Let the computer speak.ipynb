{
 "cells": [
  {
   "cell_type": "code",
   "execution_count": 1,
   "id": "f232e57b-d231-4737-9dca-ac66ec9758b8",
   "metadata": {},
   "outputs": [
    {
     "name": "stdout",
     "output_type": "stream",
     "text": [
      "Collecting gTTS\n",
      "  Downloading gTTS-2.5.1-py3-none-any.whl.metadata (4.1 kB)\n",
      "Requirement already satisfied: requests<3,>=2.27 in c:\\users\\user\\anaconda3\\lib\\site-packages (from gTTS) (2.31.0)\n",
      "Requirement already satisfied: click<8.2,>=7.1 in c:\\users\\user\\anaconda3\\lib\\site-packages (from gTTS) (8.1.7)\n",
      "Requirement already satisfied: colorama in c:\\users\\user\\anaconda3\\lib\\site-packages (from click<8.2,>=7.1->gTTS) (0.4.6)\n",
      "Requirement already satisfied: charset-normalizer<4,>=2 in c:\\users\\user\\anaconda3\\lib\\site-packages (from requests<3,>=2.27->gTTS) (2.0.4)\n",
      "Requirement already satisfied: idna<4,>=2.5 in c:\\users\\user\\anaconda3\\lib\\site-packages (from requests<3,>=2.27->gTTS) (3.4)\n",
      "Requirement already satisfied: urllib3<3,>=1.21.1 in c:\\users\\user\\anaconda3\\lib\\site-packages (from requests<3,>=2.27->gTTS) (2.0.7)\n",
      "Requirement already satisfied: certifi>=2017.4.17 in c:\\users\\user\\anaconda3\\lib\\site-packages (from requests<3,>=2.27->gTTS) (2024.2.2)\n",
      "Downloading gTTS-2.5.1-py3-none-any.whl (29 kB)\n",
      "Installing collected packages: gTTS\n",
      "Successfully installed gTTS-2.5.1\n"
     ]
    }
   ],
   "source": [
    "!pip install gTTS"
   ]
  },
  {
   "cell_type": "code",
   "execution_count": 3,
   "id": "41d1262c-a829-496d-bfd6-d4d00e077fc1",
   "metadata": {},
   "outputs": [
    {
     "name": "stdout",
     "output_type": "stream",
     "text": [
      "Requirement already satisfied: pygame in c:\\users\\user\\anaconda3\\lib\\site-packages (2.5.2)\n"
     ]
    }
   ],
   "source": [
    "!pip install pygame"
   ]
  },
  {
   "cell_type": "code",
   "execution_count": 61,
   "id": "2e817594-0188-4d1c-9777-755c1d9da23c",
   "metadata": {},
   "outputs": [],
   "source": [
    "from gtts import gTTS\n",
    "tts=gTTS(text='我是女生，漂亮的女生',lang='zh-TW')\n",
    "tts.save('judy.mp3')"
   ]
  },
  {
   "cell_type": "code",
   "execution_count": 63,
   "id": "16a60846-360b-48e6-9fd5-6e63c17399ec",
   "metadata": {},
   "outputs": [],
   "source": [
    "from pygame import mixer\n",
    "mixer.init()\n",
    "mixer.music.load('judy.mp3')\n",
    "mixer.music.play()"
   ]
  },
  {
   "cell_type": "code",
   "execution_count": 64,
   "id": "82058e78-aa79-4831-b97b-afc6c9825694",
   "metadata": {},
   "outputs": [],
   "source": [
    "from gtts import gTTS\n",
    "tts1=gTTS(text='ありがとう！',lang='ja')\n",
    "tts1.save('japanese_thank_you.mp3')"
   ]
  },
  {
   "cell_type": "code",
   "execution_count": 65,
   "id": "f288ccbf-1e19-4d29-957d-844cfc819ff7",
   "metadata": {},
   "outputs": [],
   "source": [
    "from pygame import mixer\n",
    "mixer.init()\n",
    "mixer.music.load('japanese_thank_you.mp3')\n",
    "mixer.music.play()"
   ]
  },
  {
   "cell_type": "code",
   "execution_count": 66,
   "id": "d82c0b8d-803e-45c1-b061-dd10910669c0",
   "metadata": {},
   "outputs": [],
   "source": [
    "from gtts import gTTS\n",
    "tts1=gTTS(text='좋아해요！',lang='ko')\n",
    "tts1.save('korean_i_like_you.mp3')"
   ]
  },
  {
   "cell_type": "code",
   "execution_count": 67,
   "id": "595091d4-5e4d-4344-aa1c-b1717976a4d5",
   "metadata": {},
   "outputs": [],
   "source": [
    "from pygame import mixer\n",
    "mixer.init()\n",
    "mixer.music.load('korean_i_like_you.mp3')\n",
    "mixer.music.play()"
   ]
  },
  {
   "cell_type": "code",
   "execution_count": null,
   "id": "cd905da9-e52d-4439-9086-8626d120fb9d",
   "metadata": {},
   "outputs": [],
   "source": []
  },
  {
   "cell_type": "code",
   "execution_count": 68,
   "id": "34145df1-94f8-41de-b336-ebfa44561990",
   "metadata": {},
   "outputs": [],
   "source": [
    "import tempfile\n",
    "def speak(sentence):\n",
    "    with tempfile.NamedTemporaryFile(delete=True) as fp:\n",
    "        tts=gTTS(text=sentence,lang='zh-CN')\n",
    "        tts.save(\"{}.mp3\".format(fp.name))\n",
    "        mixer.music.load('{}.mp3'.format (fp. name))\n",
    "        mixer.music.play()"
   ]
  },
  {
   "cell_type": "code",
   "execution_count": 69,
   "id": "87fc315a-e51d-4351-b9d9-7315ff216f61",
   "metadata": {},
   "outputs": [],
   "source": [
    "speak('大樹小樹差在哪?插在土裡')"
   ]
  },
  {
   "cell_type": "code",
   "execution_count": 70,
   "id": "540d3687-c7dc-48d7-bb53-9452b3656b60",
   "metadata": {},
   "outputs": [],
   "source": [
    "import tempfile\n",
    "def speak(sentence):\n",
    "    with tempfile.NamedTemporaryFile(delete=True) as fp:\n",
    "        tts=gTTS(text=sentence,lang='ja')\n",
    "        tts.save(\"{}.mp3\".format(fp.name))\n",
    "        mixer.music.load('{}.mp3'.format (fp. name))\n",
    "        mixer.music.play()"
   ]
  },
  {
   "cell_type": "code",
   "execution_count": 71,
   "id": "64ca102c-0c0a-475f-af3e-8249d22685da",
   "metadata": {},
   "outputs": [],
   "source": [
    "speak('愛してた,さよなら,なんて,受け止められない,だから,もう一度,愛してよ,忘れられない,I still love you')\n"
   ]
  },
  {
   "cell_type": "code",
   "execution_count": null,
   "id": "ec04b217-8a2a-4ffd-aab5-0d1df85f8573",
   "metadata": {},
   "outputs": [],
   "source": []
  },
  {
   "cell_type": "code",
   "execution_count": 72,
   "id": "7f2003b2-da0d-4e15-acc8-e7b2f2aecee7",
   "metadata": {},
   "outputs": [],
   "source": [
    "from gtts import gTTS\n",
    "tts=gTTS(text='寶貝來了，我來了，接下來我要表演一段街舞，名字叫 Niggas in Paris',lang='zh-TW')\n",
    "tts.save('TFBOYS.mp3')"
   ]
  },
  {
   "cell_type": "code",
   "execution_count": 74,
   "id": "ecd31cd0-1d75-4142-8731-914cb6309bf1",
   "metadata": {},
   "outputs": [],
   "source": [
    "from pygame import mixer\n",
    "mixer.init()\n",
    "mixer.music.load('TFBOYS.mp3')\n",
    "mixer.music.play()"
   ]
  },
  {
   "cell_type": "code",
   "execution_count": null,
   "id": "ab8e43ce-2595-4d91-ab8b-14b12249ee0f",
   "metadata": {},
   "outputs": [],
   "source": []
  }
 ],
 "metadata": {
  "kernelspec": {
   "display_name": "Python 3 (ipykernel)",
   "language": "python",
   "name": "python3"
  },
  "language_info": {
   "codemirror_mode": {
    "name": "ipython",
    "version": 3
   },
   "file_extension": ".py",
   "mimetype": "text/x-python",
   "name": "python",
   "nbconvert_exporter": "python",
   "pygments_lexer": "ipython3",
   "version": "3.11.7"
  }
 },
 "nbformat": 4,
 "nbformat_minor": 5
}
